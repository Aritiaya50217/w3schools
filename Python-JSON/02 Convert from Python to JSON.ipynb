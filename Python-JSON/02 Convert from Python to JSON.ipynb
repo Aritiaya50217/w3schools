{
 "cells": [
  {
   "cell_type": "code",
   "execution_count": 5,
   "metadata": {},
   "outputs": [
    {
     "name": "stdout",
     "output_type": "stream",
     "text": [
      "{'name': 'John', 'age': 30, 'city': 'New York'} <class 'dict'>\n",
      "{\"name\": \"John\", \"age\": 30, \"city\": \"New York\"} <class 'str'>\n"
     ]
    }
   ],
   "source": [
    "#  If you have a Python object, you can convert it into a JSON string by using the json.dumps() method.\n",
    "import json\n",
    "\n",
    "x = {\n",
    "    \"name\" : \"John\" ,\n",
    "    \"age\" : 30 ,\n",
    "    \"city\" : \"New York\"\n",
    "}\n",
    "print(x,type(x))\n",
    "# convert into Json \n",
    "#  แปลง JSON เป็น string  ใช้ method dumps()\n",
    "y = json.dumps(x)\n",
    "print(y,type(y))"
   ]
  },
  {
   "cell_type": "code",
   "execution_count": 48,
   "metadata": {},
   "outputs": [
    {
     "name": "stdout",
     "output_type": "stream",
     "text": [
      "{'name': 'John', 'age': 30}\n",
      "\n",
      "<class 'dict'>\n",
      "\n",
      "{\"name\": \"John\", \"age\": 30}\n",
      "\n",
      "<class 'str'>\n",
      "['apple', 'bananas']\n",
      "\n",
      "<class 'list'>\n",
      "\n",
      "[\"apple\", \"bananas\"]\n",
      "\n",
      "<class 'str'>\n",
      "('apple', 'bananas')\n",
      "\n",
      "<class 'tuple'>\n",
      "\n",
      "[\"apple\", \"bananas\"]\n",
      "\n",
      "<class 'str'>\n",
      "hello\n",
      "\n",
      "<class 'str'>\n",
      "\n",
      "\"hello\"\n",
      "\n",
      "<class 'str'>\n",
      "42\n",
      "\n",
      "<class 'int'>\n",
      "\n",
      "42\n",
      "\n",
      "<class 'str'>\n",
      "31.76\n",
      "\n",
      "<class 'float'>\n",
      "\n",
      "31.76\n",
      "\n",
      "<class 'str'>\n",
      "True\n",
      "\n",
      "<class 'bool'>\n",
      "\n",
      "true\n",
      "\n",
      "<class 'str'>\n",
      "False\n",
      "\n",
      "false\n",
      "\n",
      "<class 'str'>\n",
      "None\n",
      "\n",
      "null\n",
      "\n",
      "<class 'str'>\n"
     ]
    }
   ],
   "source": [
    "import json\n",
    "\n",
    "# สารมารถใช้ dumps() แปลงข้อมูลแบบ json ให้เป็นข้อมูลชนิดอื่นได้\n",
    "\n",
    "x = {\"name\" : \"John\",\"age\" : 30}\n",
    "print(x,type(x),json.dumps(x),type(json.dumps(x)),sep='\\n\\n')\n",
    "\n",
    "y = [\"apple\",'bananas']\n",
    "print(y,type(y),json.dumps(y),type(json.dumps(y)),sep='\\n\\n')\n",
    "\n",
    "a = \"apple\", \"bananas\"\n",
    "print(a,type(a),json.dumps(a),type(json.dumps(a)),sep='\\n\\n')\n",
    "\n",
    "b = \"hello\"\n",
    "print(b,type(b),json.dumps(b),type(json.dumps(b)),sep='\\n\\n')\n",
    "\n",
    "z = 42\n",
    "print(z,type(z),json.dumps(z),type(json.dumps(z)),sep='\\n\\n')\n",
    "\n",
    "s = 31.76\n",
    "print(s,type(s),json.dumps(s),type(json.dumps(s)),sep='\\n\\n')\n",
    "\n",
    "p = True\n",
    "print(p,type(p),json.dumps(p),type(json.dumps(p)),sep='\\n\\n')\n",
    "f = False\n",
    "print(f,json.dumps(f),type(json.dumps(f)),sep='\\n\\n')\n",
    "n = None\n",
    "print(n,json.dumps(n),type(json.dumps(n)),sep='\\n\\n')"
   ]
  },
  {
   "cell_type": "code",
   "execution_count": 27,
   "metadata": {},
   "outputs": [
    {
     "name": "stdout",
     "output_type": "stream",
     "text": [
      "ก่อนใช้ dumps() Type :  <class 'dict'>\n",
      "\n",
      "{\"name\": \"John\", \"age\": 30, \"married\": true, \"divorced\": false, \"children\": [\"Ann\", \"Billy\"], \"pets\": null, \"cars\": [{\"model\": \"BMW 230\", \"mpg\": 27.5}, {\"model\": \"Ford Edge\", \"mpg\": 24.1}]}\n",
      "หลังใช้ Type :  <class 'str'>\n"
     ]
    }
   ],
   "source": [
    "# Convert a Python object containing all the legal data types\n",
    "import json\n",
    "\n",
    "#  สามารถเก็บข้อมูลภายใน Object ได้หลายประเภท\n",
    "\n",
    "x = {\n",
    "  \"name\": \"John\",\n",
    "  \"age\": 30,\n",
    "  \"married\": True,\n",
    "  \"divorced\": False,\n",
    "  \"children\": (\"Ann\",\"Billy\"),\n",
    "  \"pets\": None,\n",
    "  \"cars\": [\n",
    "    {\"model\": \"BMW 230\", \"mpg\": 27.5},\n",
    "    {\"model\": \"Ford Edge\", \"mpg\": 24.1}\n",
    "  ]\n",
    "}\n",
    "print('ก่อนใช้ dumps() Type : ',type(x))\n",
    "print()\n",
    "print(json.dumps(x),sep='\\n\\n')\n",
    "\n",
    "print('หลังใช้ Type : ',type(json.dumps(x)))"
   ]
  },
  {
   "cell_type": "code",
   "execution_count": null,
   "metadata": {},
   "outputs": [],
   "source": []
  }
 ],
 "metadata": {
  "kernelspec": {
   "display_name": "Python 3",
   "language": "python",
   "name": "python3"
  },
  "language_info": {
   "codemirror_mode": {
    "name": "ipython",
    "version": 3
   },
   "file_extension": ".py",
   "mimetype": "text/x-python",
   "name": "python",
   "nbconvert_exporter": "python",
   "pygments_lexer": "ipython3",
   "version": "3.8.3"
  }
 },
 "nbformat": 4,
 "nbformat_minor": 4
}
