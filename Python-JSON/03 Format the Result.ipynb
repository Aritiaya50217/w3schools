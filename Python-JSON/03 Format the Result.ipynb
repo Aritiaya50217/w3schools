{
 "cells": [
  {
   "cell_type": "code",
   "execution_count": 9,
   "metadata": {},
   "outputs": [
    {
     "name": "stdout",
     "output_type": "stream",
     "text": [
      "{\n",
      " \"name\": \"John\",\n",
      " \"age\": 30,\n",
      " \"married\": true,\n",
      " \"divorced\": false,\n",
      " \"children\": [\n",
      "  \"Ann\",\n",
      "  \"Billy\"\n",
      " ],\n",
      " \"pets\": null,\n",
      " \"cars\": [\n",
      "  {\n",
      "   \"model\": \"BMW 230\",\n",
      "   \"mpg\": 27.5\n",
      "  },\n",
      "  {\n",
      "   \"model\": \"Ford Edge\",\n",
      "   \"mpg\": 24.1\n",
      "  }\n",
      " ]\n",
      "}\n",
      "-------------------------------------------------------------------\n",
      "{\n",
      "              \"name\": \"John\",\n",
      "              \"age\": 30,\n",
      "              \"married\": true,\n",
      "              \"divorced\": false,\n",
      "              \"children\": [\n",
      "                            \"Ann\",\n",
      "                            \"Billy\"\n",
      "              ],\n",
      "              \"pets\": null,\n",
      "              \"cars\": [\n",
      "                            {\n",
      "                                          \"model\": \"BMW 230\",\n",
      "                                          \"mpg\": 27.5\n",
      "                            },\n",
      "                            {\n",
      "                                          \"model\": \"Ford Edge\",\n",
      "                                          \"mpg\": 24.1\n",
      "                            }\n",
      "              ]\n",
      "}\n"
     ]
    }
   ],
   "source": [
    "import json\n",
    "# Use the indent parameter to define the numbers of indents:\n",
    "#  indents การเยื้อง\n",
    "x = {\n",
    "    \"name\" : \"John\" ,\n",
    "    \"age\" : 30 ,\n",
    "    \"married\" : True , \n",
    "    \"divorced\" : False,\n",
    "    \"children\" : (\"Ann\",\"Billy\") ,\n",
    "    \"pets\" : None ,\n",
    "    \"cars\" : [\n",
    "        {\"model\": \"BMW 230\", \"mpg\": 27.5},\n",
    "        {\"model\": \"Ford Edge\", \"mpg\": 24.1}\n",
    "    ]\n",
    "}\n",
    "\n",
    "print(json.dumps(x,indent=1))\n",
    "print('-------------------------------------------------------------------')\n",
    "print(json.dumps(x,indent=14))\n"
   ]
  },
  {
   "cell_type": "code",
   "execution_count": 10,
   "metadata": {},
   "outputs": [
    {
     "name": "stdout",
     "output_type": "stream",
     "text": [
      "{\n",
      "    \"name\" = \"John\". \n",
      "    \"age\" = 30. \n",
      "    \"married\" = true. \n",
      "    \"divorced\" = false. \n",
      "    \"children\" = [\n",
      "        \"Ann\". \n",
      "        \"Billy\"\n",
      "    ]. \n",
      "    \"pets\" = null. \n",
      "    \"cars\" = [\n",
      "        {\n",
      "            \"model\" = \"BMW 230\". \n",
      "            \"mpg\" = 27.5\n",
      "        }. \n",
      "        {\n",
      "            \"model\" = \"Ford Edge\". \n",
      "            \"mpg\" = 24.1\n",
      "        }\n",
      "    ]\n",
      "}\n"
     ]
    }
   ],
   "source": [
    "#  separators ตัวคั่น\n",
    "# Use the separators parameter to change the default separator:\n",
    "import json\n",
    "\n",
    "x = {\n",
    "  \"name\": \"John\",\n",
    "  \"age\": 30,\n",
    "  \"married\": True,\n",
    "  \"divorced\": False,\n",
    "  \"children\": (\"Ann\",\"Billy\"),\n",
    "  \"pets\": None,\n",
    "  \"cars\": [\n",
    "    {\"model\": \"BMW 230\", \"mpg\": 27.5},\n",
    "    {\"model\": \"Ford Edge\", \"mpg\": 24.1}\n",
    "  ]\n",
    "}\n",
    "# เยื้อง 4\n",
    "# ใช้ . แทน , \n",
    "# เปลี่ยน :  มาใช้ = แทน (ระหว่าง key : value)\n",
    "print(json.dumps(x, indent=4, separators=(\". \", \" = \")))"
   ]
  },
  {
   "cell_type": "code",
   "execution_count": null,
   "metadata": {},
   "outputs": [],
   "source": []
  }
 ],
 "metadata": {
  "kernelspec": {
   "display_name": "Python 3",
   "language": "python",
   "name": "python3"
  },
  "language_info": {
   "codemirror_mode": {
    "name": "ipython",
    "version": 3
   },
   "file_extension": ".py",
   "mimetype": "text/x-python",
   "name": "python",
   "nbconvert_exporter": "python",
   "pygments_lexer": "ipython3",
   "version": "3.8.3"
  }
 },
 "nbformat": 4,
 "nbformat_minor": 4
}
