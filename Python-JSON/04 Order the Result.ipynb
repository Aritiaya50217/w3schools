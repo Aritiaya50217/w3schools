{
 "cells": [
  {
   "cell_type": "code",
   "execution_count": 7,
   "metadata": {},
   "outputs": [
    {
     "name": "stdout",
     "output_type": "stream",
     "text": [
      "{\n",
      "    \"age\": 30,\n",
      "    \"cars\": [\n",
      "        {\n",
      "            \"model\": \"BMW 230\",\n",
      "            \"mpg\": 27.5\n",
      "        },\n",
      "        {\n",
      "            \"model\": \"Ford Edge\",\n",
      "            \"mpg\": 24.1\n",
      "        },\n",
      "        {\n",
      "            \"model\": \"AAA\",\n",
      "            \"mpg\": 24.1\n",
      "        }\n",
      "    ],\n",
      "    \"children\": [\n",
      "        \"Ann\",\n",
      "        \"Billy\"\n",
      "    ],\n",
      "    \"divorced\": false,\n",
      "    \"married\": true,\n",
      "    \"name\": \"John\",\n",
      "    \"pets\": null\n",
      "}\n"
     ]
    }
   ],
   "source": [
    "# the json.dumps() method has parameters to order the keys in the result\n",
    "# Use the sort_keys parameter to specify if the result should be sorted or not:\n",
    "\n",
    "import json\n",
    "\n",
    "x = {\n",
    "     \"name\": \"John\",\n",
    "      \"age\": 30,\n",
    "      \"married\": True,\n",
    "      \"divorced\": False,\n",
    "      \"children\": (\"Ann\",\"Billy\"),\n",
    "      \"pets\": None,\n",
    "      \"cars\": [\n",
    "        {\"model\": \"BMW 230\", \"mpg\": 27.5},\n",
    "        {\"model\": \"Ford Edge\", \"mpg\": 24.1},\n",
    "        {\"model\": \"AAA\", \"mpg\": 24.1}\n",
    "      ]\n",
    "}\n",
    "#  sort_keys  เรียงตามตัวอักขระ น้อยไปมาก\n",
    "print(json.dumps(x,indent=4,sort_keys = True))"
   ]
  },
  {
   "cell_type": "code",
   "execution_count": null,
   "metadata": {},
   "outputs": [],
   "source": []
  }
 ],
 "metadata": {
  "kernelspec": {
   "display_name": "Python 3",
   "language": "python",
   "name": "python3"
  },
  "language_info": {
   "codemirror_mode": {
    "name": "ipython",
    "version": 3
   },
   "file_extension": ".py",
   "mimetype": "text/x-python",
   "name": "python",
   "nbconvert_exporter": "python",
   "pygments_lexer": "ipython3",
   "version": "3.8.3"
  }
 },
 "nbformat": 4,
 "nbformat_minor": 4
}
