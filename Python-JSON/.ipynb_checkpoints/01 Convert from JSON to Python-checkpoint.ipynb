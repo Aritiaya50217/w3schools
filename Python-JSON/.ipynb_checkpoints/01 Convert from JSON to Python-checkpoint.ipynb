{
 "cells": [
  {
   "cell_type": "code",
   "execution_count": 9,
   "metadata": {},
   "outputs": [
    {
     "name": "stdout",
     "output_type": "stream",
     "text": [
      " {\"name\" : \"Jhon\" , \"age\" : 30 , \"city\" : \"New York\"}  <class 'str'>\n",
      "{'name': 'Jhon', 'age': 30, 'city': 'New York'} <class 'dict'>\n",
      "Age :  30\n"
     ]
    }
   ],
   "source": [
    "import json\n",
    "\n",
    "x = ' {\"name\" : \"Jhon\" , \"age\" : 30 , \"city\" : \"New York\"} '\n",
    "print(x,type(x))\n",
    "\n",
    "y = json.loads(x)\n",
    "print(y,type(y))\n",
    "\n",
    "# the result is a Python dictionary:\n",
    "#  เข้าถึงโดยใช้ key\n",
    "print('Age : ',y['age'])"
   ]
  },
  {
   "cell_type": "code",
   "execution_count": null,
   "metadata": {},
   "outputs": [],
   "source": []
  }
 ],
 "metadata": {
  "kernelspec": {
   "display_name": "Python 3",
   "language": "python",
   "name": "python3"
  },
  "language_info": {
   "codemirror_mode": {
    "name": "ipython",
    "version": 3
   },
   "file_extension": ".py",
   "mimetype": "text/x-python",
   "name": "python",
   "nbconvert_exporter": "python",
   "pygments_lexer": "ipython3",
   "version": "3.8.3"
  }
 },
 "nbformat": 4,
 "nbformat_minor": 4
}
